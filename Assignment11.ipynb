{
  "cells": [
    {
      "cell_type": "markdown",
      "metadata": {
        "id": "view-in-github",
        "colab_type": "text"
      },
      "source": [
        "<a href=\"https://colab.research.google.com/github/LilyLaValley/csc221_llava004/blob/main/Assignment11.ipynb\" target=\"_parent\"><img src=\"https://colab.research.google.com/assets/colab-badge.svg\" alt=\"Open In Colab\"/></a>"
      ]
    },
    {
      "cell_type": "markdown",
      "metadata": {
        "id": "tJV-8Ex6VN0W"
      },
      "source": [
        "Lillian LaValley csc221"
      ]
    },
    {
      "cell_type": "code",
      "execution_count": null,
      "metadata": {
        "colab": {
          "base_uri": "https://localhost:8080/"
        },
        "id": "0Fankk9QVOMD",
        "outputId": "065cb659-1a7e-4ed8-dc11-3660ebee48d2"
      },
      "outputs": [
        {
          "name": "stdout",
          "output_type": "stream",
          "text": [
            "My dog's name is Willie.\n",
            "My dog is 6 years old.\n",
            "Willie is now sitting.\n",
            "Willie rolled over!\n",
            "My dog's name is Willie.\n",
            "My dog is 6 years old.\n",
            "Willie is now sitting.\n",
            "\n",
            "Your dog's name is Lucy.\n",
            "Your dog is 3 years old.\n",
            "Lucy is now sitting.\n"
          ]
        }
      ],
      "source": [
        "class Dog:\n",
        "  def __init__(self, name, age):\n",
        "    self.name = name\n",
        "    self.age = age\n",
        "  def sit(self):\n",
        "    print(f\"{self.name} is now sitting.\")\n",
        "  def roll_over(self):\n",
        "    print(f\"{self.name} rolled over!\")\n",
        "\n",
        "my_dog = Dog('Willie', 6)\n",
        "print(f\"My dog's name is {my_dog.name}.\")\n",
        "print(f\"My dog is {my_dog.age} years old.\")\n",
        "my_dog.sit()\n",
        "my_dog.roll_over()\n",
        "\n",
        "your_dog = Dog('Lucy', 3)\n",
        "print(f\"My dog's name is {my_dog.name}.\")\n",
        "print(f\"My dog is {my_dog.age} years old.\")\n",
        "my_dog.sit()\n",
        "print(f\"\\nYour dog's name is {your_dog.name}.\")\n",
        "print(f\"Your dog is {your_dog.age} years old.\")\n",
        "your_dog.sit()"
      ]
    },
    {
      "cell_type": "code",
      "execution_count": null,
      "metadata": {
        "colab": {
          "base_uri": "https://localhost:8080/"
        },
        "id": "tCy3vE1eYGVO",
        "outputId": "06278105-d057-41a6-d4da-de4a4020a1e8"
      },
      "outputs": [
        {
          "name": "stdout",
          "output_type": "stream",
          "text": [
            "2024 Nissan Leaf\n",
            "This car has a 40-kWh battery.\n",
            "This car can go about 150 miles on a full charge.\n",
            "2019 Subaru Outback\n",
            "This car has 23600 miles on it.\n",
            "2024 Audi A4\n",
            "This car has 23 miles on it.\n"
          ]
        }
      ],
      "source": [
        "class Car:\n",
        "  def __init__(self, make, model, year):\n",
        "      self.make = make\n",
        "      self.model = model\n",
        "      self.year = year\n",
        "      self.odometer_reading = 0\n",
        "  def get_descriptive_name(self):\n",
        "    long_name = f\"{self.year} {self.make} {self.model}\"\n",
        "    return long_name.title()\n",
        "  def read_odometer(self):\n",
        "    print(f\"This car has {self.odometer_reading} miles on it.\")\n",
        "  def update_odometer(self, mileage):\n",
        "    if mileage >= self.odometer_reading:\n",
        "      self.odometer_reading = mileage\n",
        "    else:\n",
        "      print(\"You can't roll back an odometer!\")\n",
        "  def increment_odometer(self, miles):\n",
        "    self.odometer_reading += miles\n",
        "\n",
        "class ElectricCar(Car):\n",
        "  def __init__(self, make, model, year):\n",
        "    super().__init__(make, model, year)\n",
        "    self.battery = Battery()\n",
        "  def describe_battery(self):\n",
        "    print(f\"This car has a {self.battery_size}-kWh battery.\")\n",
        "  def fill_gas_tank(self):\n",
        "    print(\"This car doesn't have a gas tank!\")\n",
        "\n",
        "class Battery:\n",
        "  def __init__(self, battery_size=40):\n",
        "    self.battery_size = battery_size\n",
        "  def describe_battery(self):\n",
        "    print(f\"This car has a {self.battery_size}-kWh battery.\")\n",
        "\n",
        "  def get_range(self):\n",
        "    if self.battery_size == 40:\n",
        "      range = 150\n",
        "    elif self.battery_size == 65:\n",
        "      range = 225\n",
        "    print(f\"This car can go about {range} miles on a full charge.\")\n",
        "\n",
        "my_leaf = ElectricCar('nissan', 'leaf', 2024)\n",
        "print(my_leaf.get_descriptive_name())\n",
        "my_leaf.battery.describe_battery()\n",
        "my_leaf.battery.get_range()\n",
        "\n",
        "my_used_car = Car('subaru', 'outback', 2019)\n",
        "print(my_used_car.get_descriptive_name())\n",
        "my_used_car.update_odometer(23_500)\n",
        "my_used_car.increment_odometer(100)\n",
        "my_used_car.read_odometer()\n",
        "\n",
        "my_new_car = Car('audi', 'a4', 2024)\n",
        "print(my_new_car.get_descriptive_name())\n",
        "my_new_car.update_odometer(23)\n",
        "my_new_car.read_odometer()"
      ]
    },
    {
      "cell_type": "code",
      "execution_count": null,
      "metadata": {
        "colab": {
          "base_uri": "https://localhost:8080/"
        },
        "id": "T9sO8G413Xe7",
        "outputId": "77d5dc46-15a4-46ce-811b-b7f0ab8b832c"
      },
      "outputs": [
        {
          "name": "stdout",
          "output_type": "stream",
          "text": [
            "this restaraunt is named restaraunt\n",
            "this restaraunt serves food\n"
          ]
        }
      ],
      "source": [
        "#9.1\n",
        "class Restaraunt:\n",
        "  def __init__(self, restarauntname, cuisinetype):\n",
        "    self.restarauntname = restarauntname\n",
        "    self.cuisinetype = cuisinetype\n",
        "  def describerestaraunt(self):\n",
        "    print(f'this restaraunt is named {self.restarauntname}')\n",
        "    print(f'this restaraunt serves {self.cuisinetype}')\n",
        "  def open(self):\n",
        "    print(f'{self.restarauntname} is now open')\n",
        "\n",
        "restaraunt1=Restaraunt('restaraunt', 'food')\n",
        "restaraunt1.describerestaraunt()"
      ]
    },
    {
      "cell_type": "code",
      "execution_count": null,
      "metadata": {
        "colab": {
          "base_uri": "https://localhost:8080/"
        },
        "id": "wwNEALhFLxkO",
        "outputId": "a1e6b94e-ce1c-4496-ad83-00754147d4bc"
      },
      "outputs": [
        {
          "name": "stdout",
          "output_type": "stream",
          "text": [
            "this restaraunt is named tiny thai\n",
            "this restaraunt serves thai\n",
            "this restaraunt is named yama\n",
            "this restaraunt serves japanese\n",
            "this restaraunt is named alekas\n",
            "this restaraunt serves greek\n"
          ]
        }
      ],
      "source": [
        "#9.2\n",
        "thaiplace=Restaraunt('tiny thai','thai')\n",
        "sushiplace=Restaraunt('yama','japanese')\n",
        "greekplace=Restaraunt('alekas','greek')\n",
        "thaiplace.describerestaraunt()\n",
        "sushiplace.describerestaraunt()\n",
        "greekplace.describerestaraunt()"
      ]
    },
    {
      "cell_type": "code",
      "execution_count": null,
      "metadata": {
        "colab": {
          "base_uri": "https://localhost:8080/"
        },
        "id": "TVoK2ksdLzUT",
        "outputId": "5174073f-db1b-4604-848a-03703ec6000a"
      },
      "outputs": [
        {
          "name": "stdout",
          "output_type": "stream",
          "text": [
            "james,haley, 01-08-98\n",
            "jacobs,jasper, 10-30-00\n",
            "adams,anna, 05-20-99\n"
          ]
        }
      ],
      "source": [
        "#9.3\n",
        "class User:\n",
        "  def __init__(self, firstname, lastname,dob,):\n",
        "    self.firstname = firstname\n",
        "    self.lastname = lastname\n",
        "    self.dob = dob\n",
        "  def describeuser(self):\n",
        "    print (f'{self.lastname},{self.firstname}, {self.dob}')\n",
        "  def greetuser(self):\n",
        "    print(f'hello,{self.firstname} {self.lastname}')\n",
        "\n",
        "user1=User('haley','james','01-08-98')\n",
        "user2=User('jasper', 'jacobs', '10-30-00')\n",
        "user3=User('anna','adams','05-20-99')\n",
        "\n",
        "user1.describeuser()\n",
        "user2.describeuser()\n",
        "user3.describeuser()"
      ]
    },
    {
      "cell_type": "code",
      "execution_count": 37,
      "metadata": {
        "colab": {
          "base_uri": "https://localhost:8080/",
          "height": 211
        },
        "id": "HOwSrWVHL380",
        "outputId": "f08bb2e9-5866-41fe-851b-ec6e61d65438"
      },
      "outputs": [
        {
          "output_type": "error",
          "ename": "TypeError",
          "evalue": "ignored",
          "traceback": [
            "\u001b[0;31m---------------------------------------------------------------------------\u001b[0m",
            "\u001b[0;31mTypeError\u001b[0m                                 Traceback (most recent call last)",
            "\u001b[0;32m<ipython-input-37-25fdaebee3c5>\u001b[0m in \u001b[0;36m<cell line: 8>\u001b[0;34m()\u001b[0m\n\u001b[1;32m      6\u001b[0m       \u001b[0mprint\u001b[0m \u001b[0;34m(\u001b[0m\u001b[0mself\u001b[0m\u001b[0;34m.\u001b[0m\u001b[0mflavors\u001b[0m\u001b[0;34m)\u001b[0m\u001b[0;34m\u001b[0m\u001b[0;34m\u001b[0m\u001b[0m\n\u001b[1;32m      7\u001b[0m \u001b[0;34m\u001b[0m\u001b[0m\n\u001b[0;32m----> 8\u001b[0;31m \u001b[0mstand1\u001b[0m\u001b[0;34m=\u001b[0m\u001b[0mIceCreamStand\u001b[0m\u001b[0;34m(\u001b[0m\u001b[0;34m'scoops'\u001b[0m\u001b[0;34m,\u001b[0m\u001b[0;34m'ice cream'\u001b[0m\u001b[0;34m)\u001b[0m\u001b[0;34m\u001b[0m\u001b[0;34m\u001b[0m\u001b[0m\n\u001b[0m",
            "\u001b[0;31mTypeError\u001b[0m: IceCreamStand.__init__() takes 2 positional arguments but 3 were given"
          ]
        }
      ],
      "source": [
        "#9.6\n",
        "class IceCreamStand(Restaraunt):\n",
        "  def __init__(self, flavors):\n",
        "    self.flavors=['vanilla','chocolate']\n",
        "    def showflavors(self):\n",
        "      print (self.flavors)"
      ]
    },
    {
      "cell_type": "code",
      "execution_count": 28,
      "metadata": {
        "id": "ifRax1INL7Aa",
        "colab": {
          "base_uri": "https://localhost:8080/"
        },
        "outputId": "a9bfd1db-89a9-4078-bf19-2c3e0fda39be"
      },
      "outputs": [
        {
          "output_type": "stream",
          "name": "stdout",
          "text": [
            "['can add post', 'can delete post', 'can ban users']\n"
          ]
        }
      ],
      "source": [
        "#9.7\n",
        "class Admin(User):\n",
        "  def __init__(self,privleges):\n",
        "    self.privleges=['can add post','can delete post','can ban users']\n",
        "  def showprivleges(self):\n",
        "    print(self.privleges)\n",
        "\n",
        "user4=Admin('jesse''johnson''07-05-91')\n",
        "user4.showprivleges()"
      ]
    }
  ],
  "metadata": {
    "colab": {
      "provenance": [],
      "authorship_tag": "ABX9TyP73PyiRDPp0ufqvWM5Osvg",
      "include_colab_link": true
    },
    "kernelspec": {
      "display_name": "Python 3",
      "name": "python3"
    },
    "language_info": {
      "name": "python"
    }
  },
  "nbformat": 4,
  "nbformat_minor": 0
}