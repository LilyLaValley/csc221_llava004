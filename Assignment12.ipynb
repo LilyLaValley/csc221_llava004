{
  "cells": [
    {
      "cell_type": "markdown",
      "metadata": {
        "id": "view-in-github",
        "colab_type": "text"
      },
      "source": [
        "<a href=\"https://colab.research.google.com/github/LilyLaValley/csc221_llava004/blob/main/Assignment12.ipynb\" target=\"_parent\"><img src=\"https://colab.research.google.com/assets/colab-badge.svg\" alt=\"Open In Colab\"/></a>"
      ]
    },
    {
      "cell_type": "markdown",
      "metadata": {
        "id": "e0ZsUjAZ2gkK"
      },
      "source": [
        "Lillian LaValley\n",
        "csc 221"
      ]
    },
    {
      "cell_type": "code",
      "execution_count": 15,
      "metadata": {
        "colab": {
          "base_uri": "https://localhost:8080/"
        },
        "id": "QSqRIAxd2ngH",
        "outputId": "aa3d1f36-5a13-47fa-cce7-d3dde4247766"
      },
      "outputs": [
        {
          "output_type": "stream",
          "name": "stdout",
          "text": [
            "Total Value: $12\n"
          ]
        }
      ],
      "source": [
        "class Money:\n",
        "    def __init__(self, value):\n",
        "        self.value = value\n",
        "\n",
        "class Bills(Money):\n",
        "    def __init__(self, value):\n",
        "        self.value = value\n",
        "One=Bills(1)\n",
        "Five=Bills(5)\n",
        "Ten=Bills(10)\n",
        "Twenty=Bills(20)\n",
        "Fifty=Bills(50)\n",
        "\n",
        "class Coins(Money):\n",
        "    def __init__(self, value):\n",
        "        self.value=value\n",
        "Penny=Coins(.01)\n",
        "Nickel=Coins(.05)\n",
        "Dime=Coins(.10)\n",
        "Quarter=Coins(.25)\n",
        "\n",
        "money_list=[One,One,Five,Five,]\n",
        "\n",
        "def calculate_total_value(money_list):\n",
        "    total_value = sum(unit.value for unit in money_list)\n",
        "    return total_value\n",
        "\n",
        "total_value = calculate_total_value(money_list)\n",
        "print(f'Total Value: ${total_value}')"
      ]
    },
    {
      "cell_type": "code",
      "source": [
        "class"
      ],
      "metadata": {
        "id": "NtpwIhFvBRP5"
      },
      "execution_count": null,
      "outputs": []
    }
  ],
  "metadata": {
    "colab": {
      "provenance": [],
      "authorship_tag": "ABX9TyMxDdKSBITHhmZ/41H8Qwgs",
      "include_colab_link": true
    },
    "kernelspec": {
      "display_name": "Python 3",
      "name": "python3"
    },
    "language_info": {
      "name": "python"
    }
  },
  "nbformat": 4,
  "nbformat_minor": 0
}