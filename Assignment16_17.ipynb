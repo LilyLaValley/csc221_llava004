{
  "nbformat": 4,
  "nbformat_minor": 0,
  "metadata": {
    "colab": {
      "provenance": [],
      "authorship_tag": "ABX9TyNiUfbdGYg4bGuvmjCB3bjZ",
      "include_colab_link": true
    },
    "kernelspec": {
      "name": "python3",
      "display_name": "Python 3"
    },
    "language_info": {
      "name": "python"
    }
  },
  "cells": [
    {
      "cell_type": "markdown",
      "metadata": {
        "id": "view-in-github",
        "colab_type": "text"
      },
      "source": [
        "<a href=\"https://colab.research.google.com/github/LilyLaValley/csc221_llava004/blob/main/Assignment16_17.ipynb\" target=\"_parent\"><img src=\"https://colab.research.google.com/assets/colab-badge.svg\" alt=\"Open In Colab\"/></a>"
      ]
    },
    {
      "cell_type": "markdown",
      "source": [
        "Lily LaValley\n",
        "csc223"
      ],
      "metadata": {
        "id": "rHIgTvn9QnpB"
      }
    },
    {
      "cell_type": "code",
      "source": [
        "#1.1 and 1.2 are about setting python up to run"
      ],
      "metadata": {
        "id": "pKvn0j_HQm-v"
      },
      "execution_count": null,
      "outputs": []
    },
    {
      "cell_type": "code",
      "execution_count": null,
      "metadata": {
        "id": "_EJ86ZL4QGeh"
      },
      "outputs": [],
      "source": [
        "#1.3\n",
        "variable = \"variable\""
      ]
    },
    {
      "cell_type": "code",
      "source": [
        "#1.4\n",
        "print(5*10)\n",
        "print(10-3)\n",
        "print(50/5)\n"
      ],
      "metadata": {
        "colab": {
          "base_uri": "https://localhost:8080/"
        },
        "id": "AFa26IVHQ02p",
        "outputId": "37f9af83-d73b-4c73-e454-180e7a9740b1"
      },
      "execution_count": 1,
      "outputs": [
        {
          "output_type": "stream",
          "name": "stdout",
          "text": [
            "50\n",
            "7\n",
            "10.0\n"
          ]
        }
      ]
    },
    {
      "cell_type": "code",
      "source": [
        "#1.5\n",
        "num=5\n",
        "if num>=5:\n",
        "  print('yes')\n",
        "else:\n",
        "  print ('no')"
      ],
      "metadata": {
        "id": "4mVTKdd9UbuE"
      },
      "execution_count": null,
      "outputs": []
    },
    {
      "cell_type": "code",
      "source": [
        "#1.6\n",
        "phrase = \"hi this is a phrase\"\n",
        "phrase2= ''' you can use triple quote too and theyre useful for things in certain cases'''"
      ],
      "metadata": {
        "id": "Ma8rV9e9U2HW"
      },
      "execution_count": null,
      "outputs": []
    },
    {
      "cell_type": "code",
      "source": [
        "%%file hi.text\n",
        "hi"
      ],
      "metadata": {
        "colab": {
          "base_uri": "https://localhost:8080/"
        },
        "id": "Ha3lF0lYVrJ5",
        "outputId": "1550b8ac-af1e-4307-e417-dcbe224a85d2"
      },
      "execution_count": 2,
      "outputs": [
        {
          "output_type": "stream",
          "name": "stdout",
          "text": [
            "Writing hi.text\n"
          ]
        }
      ]
    },
    {
      "cell_type": "code",
      "source": [
        "#1.7\n",
        "with open(\"hi.text\") as file:\n",
        "  print(file.read())"
      ],
      "metadata": {
        "colab": {
          "base_uri": "https://localhost:8080/"
        },
        "id": "3PRIDTmNVw0X",
        "outputId": "0f7873e6-7010-4da8-b41f-798871c72e08"
      },
      "execution_count": 7,
      "outputs": [
        {
          "output_type": "stream",
          "name": "stdout",
          "text": [
            "hi\n",
            "\n"
          ]
        }
      ]
    },
    {
      "cell_type": "code",
      "source": [
        "#1.8\n",
        "list = ['this is a list item','this is too']\n",
        "for x in list:\n",
        "  print (x)"
      ],
      "metadata": {
        "colab": {
          "base_uri": "https://localhost:8080/"
        },
        "id": "sinLmBP_WkDb",
        "outputId": "1a9b4907-60e2-4781-9525-08067bf99b10"
      },
      "execution_count": 9,
      "outputs": [
        {
          "output_type": "stream",
          "name": "stdout",
          "text": [
            "this is a list item\n",
            "this is too\n"
          ]
        }
      ]
    },
    {
      "cell_type": "code",
      "source": [
        "#1.9\n",
        "tuple = ('value1','value2')"
      ],
      "metadata": {
        "id": "5gSCfKTGXGyB"
      },
      "execution_count": 10,
      "outputs": []
    },
    {
      "cell_type": "code",
      "source": [
        "#1.10\n",
        "set={'this is a set item','this is too'}"
      ],
      "metadata": {
        "id": "U8KwxVRrX7yp"
      },
      "execution_count": 11,
      "outputs": []
    },
    {
      "cell_type": "code",
      "source": [
        "#1.11\n",
        "dict = {'one':'one','two':'two'}\n",
        "print(dict)"
      ],
      "metadata": {
        "colab": {
          "base_uri": "https://localhost:8080/"
        },
        "id": "JYcXdsv6cSn9",
        "outputId": "509c2ee0-1141-49aa-a4ab-1722f1bdf08b"
      },
      "execution_count": 12,
      "outputs": [
        {
          "output_type": "stream",
          "name": "stdout",
          "text": [
            "{'one': 'one', 'two': 'two'}\n"
          ]
        }
      ]
    },
    {
      "cell_type": "code",
      "source": [
        "#1.12\n",
        "list1=[1,2,3,4,5,6,7,8,9]\n",
        "for x in list1:\n",
        "  print(x)\n",
        "\n",
        "for x in range(len(list1)):\n",
        "  print (x)"
      ],
      "metadata": {
        "colab": {
          "base_uri": "https://localhost:8080/"
        },
        "id": "6m0HG6D4cz9i",
        "outputId": "5c1573c3-dd0b-4aba-f892-92bf918219be"
      },
      "execution_count": 16,
      "outputs": [
        {
          "output_type": "stream",
          "name": "stdout",
          "text": [
            "1\n",
            "2\n",
            "3\n",
            "4\n",
            "5\n",
            "6\n",
            "7\n",
            "8\n",
            "9\n",
            "0\n",
            "1\n",
            "2\n",
            "3\n",
            "4\n",
            "5\n",
            "6\n",
            "7\n",
            "8\n"
          ]
        }
      ]
    },
    {
      "cell_type": "code",
      "source": [
        "#1.13\n",
        "def func(argument1,argument2):\n",
        "  argument1 = \"an argument of a function\"\n",
        "  argument2 = \"an argument of a function\""
      ],
      "metadata": {
        "id": "fPuqskfpd76I"
      },
      "execution_count": 17,
      "outputs": []
    },
    {
      "cell_type": "code",
      "source": [
        "#1.14 (exceptions were new)\n",
        "portfolio = []\n",
        "with open('hi.text') as file:\n",
        "  for line in file:\n",
        "    try: print(line)\n",
        "    except ValueError as err:\n",
        "        print('Bad row:', row)"
      ],
      "metadata": {
        "colab": {
          "base_uri": "https://localhost:8080/"
        },
        "id": "_ysSTa-WgsBO",
        "outputId": "de83444c-719e-4fd3-f804-3fc53c050984"
      },
      "execution_count": 23,
      "outputs": [
        {
          "output_type": "stream",
          "name": "stdout",
          "text": [
            "hi\n",
            "\n"
          ]
        }
      ]
    },
    {
      "cell_type": "code",
      "source": [
        "#1.15 commented out because it was pitching a fit\n",
        "#raise SystemExit()"
      ],
      "metadata": {
        "id": "c_K927YxiLqw"
      },
      "execution_count": 25,
      "outputs": []
    },
    {
      "cell_type": "code",
      "source": [
        "#1.16\n",
        "class Class:\n",
        "  def __init__(self,item):\n",
        "    self.item = ('woah look a class item')"
      ],
      "metadata": {
        "id": "VzrC7Cq8jc-u"
      },
      "execution_count": null,
      "outputs": []
    },
    {
      "cell_type": "code",
      "source": [],
      "metadata": {
        "id": "u64-CxPwkCyP"
      },
      "execution_count": null,
      "outputs": []
    }
  ]
}