{
  "nbformat": 4,
  "nbformat_minor": 0,
  "metadata": {
    "colab": {
      "provenance": [],
      "authorship_tag": "ABX9TyNH752gqMsR+oZhBN4QfiNI",
      "include_colab_link": true
    },
    "kernelspec": {
      "name": "python3",
      "display_name": "Python 3"
    },
    "language_info": {
      "name": "python"
    }
  },
  "cells": [
    {
      "cell_type": "markdown",
      "metadata": {
        "id": "view-in-github",
        "colab_type": "text"
      },
      "source": [
        "<a href=\"https://colab.research.google.com/github/LilyLaValley/csc221_llava004/blob/main/Assignment3.ipynb\" target=\"_parent\"><img src=\"https://colab.research.google.com/assets/colab-badge.svg\" alt=\"Open In Colab\"/></a>"
      ]
    },
    {
      "cell_type": "code",
      "execution_count": 3,
      "metadata": {
        "colab": {
          "base_uri": "https://localhost:8080/"
        },
        "id": "8HpTYTZ56EWZ",
        "outputId": "3e8df2df-d82e-438c-d380-89148d20312c"
      },
      "outputs": [
        {
          "output_type": "stream",
          "name": "stdout",
          "text": [
            "hello!\n"
          ]
        }
      ],
      "source": [
        "#2.1\n",
        "hello = \"hello!\"\n",
        "print (hello)"
      ]
    },
    {
      "cell_type": "code",
      "source": [
        "#2.2\n",
        "hello = \"hello!\"\n",
        "hello = \"hey!\"\n",
        "print (hello)"
      ],
      "metadata": {
        "colab": {
          "base_uri": "https://localhost:8080/"
        },
        "id": "UD3Q5QE27In3",
        "outputId": "6058816a-0e32-4165-ea3b-d3236148821a"
      },
      "execution_count": 4,
      "outputs": [
        {
          "output_type": "stream",
          "name": "stdout",
          "text": [
            "hey!\n"
          ]
        }
      ]
    },
    {
      "cell_type": "code",
      "source": [
        "#2.3\n",
        "quinn = \"hello quinn! what's up?\"\n",
        "print (quinn)"
      ],
      "metadata": {
        "colab": {
          "base_uri": "https://localhost:8080/"
        },
        "id": "W7CgXwkl7kEZ",
        "outputId": "482894b6-5c33-443c-b170-28446bb951f4"
      },
      "execution_count": 7,
      "outputs": [
        {
          "output_type": "stream",
          "name": "stdout",
          "text": [
            "hello quinn! what's up?\n"
          ]
        }
      ]
    },
    {
      "cell_type": "code",
      "source": [
        "#2.4\n",
        "name = quinn\n",
        "print (name.title())\n",
        "print (name.upper())\n",
        "print (name.lower())"
      ],
      "metadata": {
        "colab": {
          "base_uri": "https://localhost:8080/"
        },
        "id": "TKE7FIer8N1X",
        "outputId": "e637f5fb-0b9e-4ff5-f118-36da9fa727ab"
      },
      "execution_count": 8,
      "outputs": [
        {
          "output_type": "stream",
          "name": "stdout",
          "text": [
            "Hello Quinn! What'S Up?\n",
            "HELLO QUINN! WHAT'S UP?\n",
            "hello quinn! what's up?\n"
          ]
        }
      ]
    },
    {
      "cell_type": "code",
      "source": [
        "#2.5\n",
        "famous_quote = 'Albert Einstein once said, “A person who never made a mistake never tried anything new.”'\n",
        "print (famous_quote)\n"
      ],
      "metadata": {
        "colab": {
          "base_uri": "https://localhost:8080/"
        },
        "id": "662pyKz6-OTs",
        "outputId": "4441e6eb-3379-4558-ef72-e1e5ed6aaa0d"
      },
      "execution_count": 41,
      "outputs": [
        {
          "output_type": "stream",
          "name": "stdout",
          "text": [
            "Albert Einstein once said, “A person who never made a mistake never tried anything new.”\n"
          ]
        }
      ]
    },
    {
      "cell_type": "code",
      "source": [
        "#2.6\n",
        "famous_person = \"Albert Einstein\"\n",
        "message = ' once said “A person who never made a mistake never tried anything new.”'\n",
        "print ((famous_person) + (message))"
      ],
      "metadata": {
        "colab": {
          "base_uri": "https://localhost:8080/"
        },
        "id": "VEk4fS6q-Q_R",
        "outputId": "ec8e2369-c0b9-486c-fd2b-616478f75403"
      },
      "execution_count": 44,
      "outputs": [
        {
          "output_type": "stream",
          "name": "stdout",
          "text": [
            "Albert Einstein once said “A person who never made a mistake never tried anything new.”\n"
          ]
        }
      ]
    },
    {
      "cell_type": "code",
      "source": [
        "#2.7\n",
        "quinn = (\"  quinn\")\n",
        "print (quinn)\n",
        "print (quinn.strip())\n",
        "print (quinn.lstrip())\n",
        "print (quinn.rstrip())\n"
      ],
      "metadata": {
        "colab": {
          "base_uri": "https://localhost:8080/"
        },
        "id": "zLz-iPmI-vFf",
        "outputId": "0f3a8478-2c89-4052-9b90-2f4ad5aee284"
      },
      "execution_count": 39,
      "outputs": [
        {
          "output_type": "stream",
          "name": "stdout",
          "text": [
            "  quinn\n",
            "quinn\n",
            "quinn\n",
            "  quinn\n"
          ]
        }
      ]
    },
    {
      "cell_type": "code",
      "source": [
        "#2.8\n",
        "filename = 'pythonnotes.txt'\n",
        "filename.removesuffix('.txt')"
      ],
      "metadata": {
        "colab": {
          "base_uri": "https://localhost:8080/",
          "height": 35
        },
        "id": "pOPTHooz-vW2",
        "outputId": "301ba216-650e-4f8f-f87e-0cdf8c3c3b02"
      },
      "execution_count": 50,
      "outputs": [
        {
          "output_type": "execute_result",
          "data": {
            "text/plain": [
              "'pythonnotes'"
            ],
            "application/vnd.google.colaboratory.intrinsic+json": {
              "type": "string"
            }
          },
          "metadata": {},
          "execution_count": 50
        }
      ]
    },
    {
      "cell_type": "code",
      "source": [
        "#2.9\n",
        "print (4+4)\n",
        "print (9-1)\n",
        "print (8*1)\n",
        "print (8/1)"
      ],
      "metadata": {
        "colab": {
          "base_uri": "https://localhost:8080/"
        },
        "id": "HetTaAVZ-vk-",
        "outputId": "99ffad93-7b76-4c6a-ccab-2725446b15fc"
      },
      "execution_count": 9,
      "outputs": [
        {
          "output_type": "stream",
          "name": "stdout",
          "text": [
            "8\n",
            "8\n",
            "8\n",
            "8.0\n"
          ]
        }
      ]
    },
    {
      "cell_type": "code",
      "source": [
        "#2.10\n",
        "fav_num = \"21\"\n",
        "message = 'my favorite number is '\n",
        "print ((message) + fav_num)"
      ],
      "metadata": {
        "colab": {
          "base_uri": "https://localhost:8080/"
        },
        "id": "LAmTP517-vxc",
        "outputId": "d7fce44e-c617-4272-ffa5-ec98ac72efe2"
      },
      "execution_count": 30,
      "outputs": [
        {
          "output_type": "stream",
          "name": "stdout",
          "text": [
            "my favorite number is 21\n"
          ]
        }
      ]
    },
    {
      "cell_type": "code",
      "source": [
        "#2.11\n",
        "#this colab is crawling with comments but here's one more"
      ],
      "metadata": {
        "id": "kpqiRwCo-v9n"
      },
      "execution_count": null,
      "outputs": []
    }
  ]
}