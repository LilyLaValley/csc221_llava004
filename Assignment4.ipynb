{
  "nbformat": 4,
  "nbformat_minor": 0,
  "metadata": {
    "colab": {
      "provenance": [],
      "include_colab_link": true
    },
    "kernelspec": {
      "name": "python3",
      "display_name": "Python 3"
    },
    "language_info": {
      "name": "python"
    }
  },
  "cells": [
    {
      "cell_type": "markdown",
      "metadata": {
        "id": "view-in-github",
        "colab_type": "text"
      },
      "source": [
        "<a href=\"https://colab.research.google.com/github/LilyLaValley/csc221_llava004/blob/main/Assignment4.ipynb\" target=\"_parent\"><img src=\"https://colab.research.google.com/assets/colab-badge.svg\" alt=\"Open In Colab\"/></a>"
      ]
    },
    {
      "cell_type": "code",
      "source": [
        "#Lily LaValley\n",
        "#Assignment4"
      ],
      "metadata": {
        "id": "J4WdVwMxiAVX"
      },
      "execution_count": null,
      "outputs": []
    },
    {
      "cell_type": "code",
      "execution_count": null,
      "metadata": {
        "colab": {
          "base_uri": "https://localhost:8080/"
        },
        "id": "O6spMEu89mO8",
        "outputId": "4f3b922c-0008-4d37-f716-a35edc84bea2"
      },
      "outputs": [
        {
          "output_type": "stream",
          "name": "stdout",
          "text": [
            "rachael\n",
            "quinn\n",
            "evan\n"
          ]
        }
      ],
      "source": [
        "#3.1\n",
        "names = ['rachael', 'quinn', 'evan']\n",
        "print (names[0])\n",
        "print (names[1])\n",
        "print (names[2])"
      ]
    },
    {
      "cell_type": "code",
      "source": [
        "#3.2\n",
        "message1 = f\"good morning, {names[1]}\"\n",
        "message2 = f\"hi {names[0]}\"\n",
        "message3 = f\"hey {names[2]}\"\n",
        "print(message1)\n",
        "print(message2)\n",
        "print(message3)"
      ],
      "metadata": {
        "colab": {
          "base_uri": "https://localhost:8080/"
        },
        "id": "Jh5tuQu0-QAo",
        "outputId": "3fed7967-4ea8-447d-b1ea-e9105d51f715"
      },
      "execution_count": null,
      "outputs": [
        {
          "output_type": "stream",
          "name": "stdout",
          "text": [
            "good morning, quinn\n",
            "hi rachael\n",
            "hey evan\n"
          ]
        }
      ]
    },
    {
      "cell_type": "code",
      "source": [
        "#3.3 (just a note, i didnt understand the instructions a ton, so i'm doing my best)\n",
        "modes=['spaceship', 'teleporter','car', 'ambulance']\n",
        "message1= f'i would like to own{modes[0]}'\n",
        "message2= f'i would love to own{modes[1]}'\n",
        "message3= f'it would be nice to own{modes[2]}'\n",
        "message4= f'i would like to ride in {modes[3]} unharmed'\n",
        "print (message1)\n",
        "print (message2)\n",
        "print (message3)\n",
        "print (message4)"
      ],
      "metadata": {
        "id": "EX05XG1Z--_z",
        "colab": {
          "base_uri": "https://localhost:8080/"
        },
        "outputId": "320b6849-b981-4623-e887-f7f30587c0b8"
      },
      "execution_count": null,
      "outputs": [
        {
          "output_type": "stream",
          "name": "stdout",
          "text": [
            "i would like to ownspaceship\n",
            "i would love to ownteleporter\n",
            "it would be nice to owncar\n",
            "i would like to ride in ambulance unharmed\n"
          ]
        }
      ]
    },
    {
      "cell_type": "code",
      "source": [
        "#3.4 (the next question says to add the cannot make it line to the end of the program so i added it to the previous cell)\n",
        "guest_list = ['myself', 'sir patrick stewart', 'david bowie','audrey hepburn']\n",
        "invitation = ' I would like to invite you to dinner'\n",
        "print('hello ' + guest_list[0] + invitation)\n",
        "print('hello ' + guest_list[1] + invitation)\n",
        "print('hello ' + guest_list[2] + invitation)\n",
        "print('hello ' + guest_list[3] + invitation)\n",
        "print(guest_list[1] + ' cannot make it')"
      ],
      "metadata": {
        "id": "oHjTkL_n-_MW",
        "colab": {
          "base_uri": "https://localhost:8080/"
        },
        "outputId": "c9056d98-8a9c-49b4-f710-41b9479723e6"
      },
      "execution_count": null,
      "outputs": [
        {
          "output_type": "stream",
          "name": "stdout",
          "text": [
            "hello myself I would like to invite you to dinner\n",
            "hello sir patrick stewart I would like to invite you to dinner\n",
            "hello david bowie I would like to invite you to dinner\n",
            "hello audrey hepburn I would like to invite you to dinner\n",
            "sir patrick stewart cannot make it\n"
          ]
        }
      ]
    },
    {
      "cell_type": "code",
      "source": [
        "#3.5 (the next question says to add a print call to the end of the program talking about finding a bigger table so i added it to this cell)\n",
        "del guest_list[3]\n",
        "guest_list.append('john waters')\n",
        "print('hello ' + guest_list[0] + invitation)\n",
        "print('hello ' + guest_list[1] + invitation)\n",
        "print('hello ' + guest_list[2] + invitation)\n",
        "print('hello ' + guest_list[3] + invitation)\n",
        "\n",
        "print('i have found a bigger table to use')\n",
        "print(guest_list)"
      ],
      "metadata": {
        "id": "xeqZBbL1-_jb",
        "colab": {
          "base_uri": "https://localhost:8080/"
        },
        "outputId": "12f5e599-cd41-4a62-8f8b-9e5c6fb5dfec"
      },
      "execution_count": null,
      "outputs": [
        {
          "output_type": "stream",
          "name": "stdout",
          "text": [
            "hello audrey hepburn I would like to invite you to dinner\n",
            "hello quinn spring-lee I would like to invite you to dinner\n",
            "hello john waters I would like to invite you to dinner\n",
            "hello john waters I would like to invite you to dinner\n",
            "i have found a bigger table to use\n",
            "['audrey hepburn', 'quinn spring-lee', 'john waters', 'john waters', 'john waters', 'john waters']\n"
          ]
        }
      ]
    },
    {
      "cell_type": "code",
      "source": [
        "#question 1 from you\n",
        "cubes = [x**3 for x in range (60,86) if x % 7 ==0]\n",
        "print (cubes)"
      ],
      "metadata": {
        "id": "CVKC7Gy9_Bri",
        "colab": {
          "base_uri": "https://localhost:8080/"
        },
        "outputId": "718c2385-4b2a-4240-f885-1447eb900824"
      },
      "execution_count": null,
      "outputs": [
        {
          "output_type": "stream",
          "name": "stdout",
          "text": [
            "[250047, 343000, 456533, 592704]\n"
          ]
        }
      ]
    },
    {
      "cell_type": "code",
      "source": [
        "#question 2 from you\n",
        "values = [40,50,120,-8,6]\n",
        "results = [7.4*x+51 for x in values]\n",
        "print (results)"
      ],
      "metadata": {
        "colab": {
          "base_uri": "https://localhost:8080/"
        },
        "id": "TB9yqpYKPucb",
        "outputId": "c70da3c1-6494-4e72-b749-60d4e1cce61e"
      },
      "execution_count": null,
      "outputs": [
        {
          "output_type": "stream",
          "name": "stdout",
          "text": [
            "[347.0, 421.0, 939.0, -8.200000000000003, 95.4]\n"
          ]
        }
      ]
    }
  ]
}