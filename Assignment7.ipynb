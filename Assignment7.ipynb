{
  "nbformat": 4,
  "nbformat_minor": 0,
  "metadata": {
    "colab": {
      "provenance": [],
      "authorship_tag": "ABX9TyMV8Gn/703tV2WXKYjNQbXb",
      "include_colab_link": true
    },
    "kernelspec": {
      "name": "python3",
      "display_name": "Python 3"
    },
    "language_info": {
      "name": "python"
    }
  },
  "cells": [
    {
      "cell_type": "markdown",
      "metadata": {
        "id": "view-in-github",
        "colab_type": "text"
      },
      "source": [
        "<a href=\"https://colab.research.google.com/github/LilyLaValley/csc221_llava004/blob/main/Assignment7.ipynb\" target=\"_parent\"><img src=\"https://colab.research.google.com/assets/colab-badge.svg\" alt=\"Open In Colab\"/></a>"
      ]
    },
    {
      "cell_type": "code",
      "execution_count": null,
      "metadata": {
        "id": "L_BxLmIf64gX"
      },
      "outputs": [],
      "source": [
        "#Lily LaValley\n",
        "#Assignment 7"
      ]
    },
    {
      "cell_type": "code",
      "source": [
        "#6.1\n",
        "lily = {'first_name':'lily', 'last_name':'lavalley', 'age':'20', 'city':'plattsburgh'}\n",
        "print(lily['first_name'])\n",
        "print(lily['last_name'])\n",
        "print(lily['age'])\n",
        "print(lily['city'])"
      ],
      "metadata": {
        "colab": {
          "base_uri": "https://localhost:8080/"
        },
        "id": "bgvvjqBN7SWX",
        "outputId": "24ad4870-0dcd-42b1-9ac5-a7d5bd29eb2d"
      },
      "execution_count": 4,
      "outputs": [
        {
          "output_type": "stream",
          "name": "stdout",
          "text": [
            "lily\n",
            "lavalley\n",
            "20\n",
            "plattsburgh\n"
          ]
        }
      ]
    },
    {
      "cell_type": "code",
      "source": [
        "#6.2\n",
        "fav_nums = {'james':'6', 'cathy':'2', 'dan':'11','meredith':'4',\"charlie\":'3'}\n",
        "print (\"james \" + fav_nums['james'])\n",
        "print (\"cathy \" + fav_nums['cathy'])\n",
        "print (\"dan \" + fav_nums['dan'])\n",
        "print (\"meredith \" + fav_nums['james'])\n",
        "print (\"charlie \" + fav_nums['charlie'])"
      ],
      "metadata": {
        "colab": {
          "base_uri": "https://localhost:8080/"
        },
        "id": "yzuQOMD77XRd",
        "outputId": "3653f2b5-a15e-4c7f-be93-38d513fff1bf"
      },
      "execution_count": 23,
      "outputs": [
        {
          "output_type": "stream",
          "name": "stdout",
          "text": [
            "james 6\n",
            "cathy 2\n",
            "dan 11\n",
            "meredith 6\n",
            "charlie 3\n"
          ]
        }
      ]
    },
    {
      "cell_type": "code",
      "source": [
        "#6.3\n",
        "glossary = {'loop':'a loop is an instruction that repeats multiple times as long as some condition is met',\n",
        "            'list':'a list is an ordered and changeable collection of data objects.',\n",
        "            'if statement':'an if statement is a condition statement used to check a condition, and execute it if the condition holds true',\n",
        "            'string':'a data structure that represents a sequence of characters',\n",
        "            'python':'Python is a high-level, general-purpose programming language.'}\n",
        "print (\"loop: \" + glossary['loop'])\n",
        "print (\"list: \" + glossary['list'])\n",
        "print (\"if statement: \" + glossary['if statement'])\n",
        "print (\"string: \" + glossary['string'])\n",
        "print (\"python: \" + glossary['python'])"
      ],
      "metadata": {
        "colab": {
          "base_uri": "https://localhost:8080/"
        },
        "id": "VNRKf7Dy7XhA",
        "outputId": "e6288935-80ff-42ca-a32f-4b6094cc78ff"
      },
      "execution_count": 12,
      "outputs": [
        {
          "output_type": "stream",
          "name": "stdout",
          "text": [
            "loop: a loop is an instruction that repeats multiple times as long as some condition is met\n",
            "list: a list is an ordered and changeable collection of data objects.\n",
            "if statement: an if statement is a condition statement used to check a condition, and execute it if the condition holds true\n",
            "string: a data structure that represents a sequence of characters\n",
            "python: Python is a high-level, general-purpose programming language.\n"
          ]
        }
      ]
    },
    {
      "cell_type": "code",
      "source": [
        "#6.4\n",
        "for term, definition in glossary.items():\n",
        "  print({term.title():definition.title()})"
      ],
      "metadata": {
        "colab": {
          "base_uri": "https://localhost:8080/"
        },
        "id": "6lfEnm9m7Xvr",
        "outputId": "f8a7e458-686f-4528-e285-a827b4900755"
      },
      "execution_count": 21,
      "outputs": [
        {
          "output_type": "stream",
          "name": "stdout",
          "text": [
            "{'Loop': 'A Loop Is An Instruction That Repeats Multiple Times As Long As Some Condition Is Met'}\n",
            "{'List': 'A List Is An Ordered And Changeable Collection Of Data Objects.'}\n",
            "{'If Statement': 'An If Statement Is A Condition Statement Used To Check A Condition, And Execute It If The Condition Holds True'}\n",
            "{'String': 'A Data Structure That Represents A Sequence Of Characters'}\n",
            "{'Python': 'Python Is A High-Level, General-Purpose Programming Language.'}\n"
          ]
        }
      ]
    },
    {
      "cell_type": "code",
      "source": [
        "#6.11\n",
        "cities = {'paris':{'country':'france','population':'2.16 million','fun fact':'the river seine that runs through the city is where the ashes of joan of arc were scattered'},\n",
        "          'tokyo':{'country':'japan', 'population':'13.96 million', 'fun fact': 'tokyo was formerly named edo and was renamed to tokyo in 1868'},\n",
        "          'toronto':{'country':'canada','population':'2.93 million', 'fun fact': 'toronto is home to the toronto raptors, the only canadian team in the nba'}}\n",
        "for city, facts in cities.items():\n",
        "  print({city.title():facts})"
      ],
      "metadata": {
        "colab": {
          "base_uri": "https://localhost:8080/"
        },
        "id": "z1ps9I767X7X",
        "outputId": "abe74646-4463-4062-86b6-ca5d18d24f3d"
      },
      "execution_count": 28,
      "outputs": [
        {
          "output_type": "stream",
          "name": "stdout",
          "text": [
            "{'Paris': {'country': 'france', 'population': '2.16 million', 'fun fact': 'the river seine that runs through the city is where the ashes of joan of arc were scattered'}}\n",
            "{'Tokyo': {'country': 'japan', 'population': '13.96 million', 'fun fact': 'tokyo was formerly named edo and was renamed to tokyo in 1868'}}\n",
            "{'Toronto': {'country': 'canada', 'population': '2.93 million', 'fun fact': 'toronto is home to the toronto raptors, the only canadian team in the nba'}}\n"
          ]
        }
      ]
    },
    {
      "cell_type": "code",
      "source": [
        "#6.12\n",
        "people = {'lily':{'first_name':'lily','last_name':'lavalley', 'age':'20', 'city':'plattsburgh'}}\n",
        "\n",
        "#I'm sorry, i was having a brain fart and couldnt think of something that could fit the critera for this so\n",
        "#i took the entry from the first excercise and made it the sub entry on a dictionary of a list of people"
      ],
      "metadata": {
        "id": "pW6ZcndtXlro"
      },
      "execution_count": null,
      "outputs": []
    }
  ]
}