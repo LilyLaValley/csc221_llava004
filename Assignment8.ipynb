{
  "nbformat": 4,
  "nbformat_minor": 0,
  "metadata": {
    "colab": {
      "provenance": [],
      "authorship_tag": "ABX9TyNf0i7fbbwArJwP1lzpdKBt",
      "include_colab_link": true
    },
    "kernelspec": {
      "name": "python3",
      "display_name": "Python 3"
    },
    "language_info": {
      "name": "python"
    }
  },
  "cells": [
    {
      "cell_type": "markdown",
      "metadata": {
        "id": "view-in-github",
        "colab_type": "text"
      },
      "source": [
        "<a href=\"https://colab.research.google.com/github/LilyLaValley/csc221_llava004/blob/main/Assignment8.ipynb\" target=\"_parent\"><img src=\"https://colab.research.google.com/assets/colab-badge.svg\" alt=\"Open In Colab\"/></a>"
      ]
    },
    {
      "cell_type": "code",
      "execution_count": null,
      "metadata": {
        "id": "Ay6SeHyxhIS8"
      },
      "outputs": [],
      "source": [
        "#Lillian LaValley\n",
        "#Assignment 8"
      ]
    },
    {
      "cell_type": "code",
      "source": [
        "#7.1"
      ],
      "metadata": {
        "id": "z_wcQ91Ejj6R"
      },
      "execution_count": null,
      "outputs": []
    },
    {
      "cell_type": "code",
      "source": [
        "#7.3"
      ],
      "metadata": {
        "id": "H1OsgM9Alx3j"
      },
      "execution_count": null,
      "outputs": []
    },
    {
      "cell_type": "code",
      "source": [
        "#7.5"
      ],
      "metadata": {
        "id": "pbIlkoaClzmX"
      },
      "execution_count": null,
      "outputs": []
    },
    {
      "cell_type": "code",
      "source": [
        "#7.6"
      ],
      "metadata": {
        "id": "vygWn7u3l1R_"
      },
      "execution_count": null,
      "outputs": []
    },
    {
      "cell_type": "code",
      "source": [
        "#7.8"
      ],
      "metadata": {
        "id": "QXKFQtQOl2tU"
      },
      "execution_count": null,
      "outputs": []
    }
  ]
}